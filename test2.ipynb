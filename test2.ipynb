{
 "cells": [
  {
   "cell_type": "code",
   "execution_count": null,
   "metadata": {},
   "outputs": [],
   "source": [
    "import pandas as pd\n",
    "from sklearn.preprocessing import StandardScaler, LabelEncoder\n",
    "from sklearn.model_selection import train_test_split\n"
   ]
  },
  {
   "cell_type": "code",
   "execution_count": null,
   "metadata": {},
   "outputs": [],
   "source": [
    "data = pd.read_csv('data/German_data.csv')"
   ]
  },
  {
   "cell_type": "code",
   "execution_count": null,
   "metadata": {},
   "outputs": [],
   "source": [
    "data['Good/Bad'] = data['Good/Bad'].astype(int)\n",
    "data['sex'] = LabelEncoder().fit_transform(data['sex']) \n",
    "# 区分数值型和分类型变量\n",
    "numerical_features = data.select_dtypes(include=['int64', 'float64']).columns.tolist()\n",
    "categorical_features = data.select_dtypes(include=['object']).columns.tolist()\n",
    "# print(categorical_features)\n",
    "# 去掉good/bad 和sex列\n",
    "numerical_features.remove('Good/Bad')\n",
    "numerical_features.remove('sex')\n",
    "#对分类变量进行独热编码\n",
    "data_encoded = pd.get_dummies(data[categorical_features], drop_first=True)\n",
    "data_encoded = data_encoded.astype(float)\n",
    "data_preprocessed = pd.concat([data[numerical_features], data_encoded], axis=1)\n",
    "# 分离特征和标签\n",
    "X = data_preprocessed\n",
    "y_label = data['Good/Bad']\n",
    "y_sensitive = data['sex']\n",
    "\n",
    "# 标准化特征\n",
    "scaler = StandardScaler()\n",
    "X_scaled = scaler.fit_transform(X)\n",
    "\n",
    "# 划分训练集和测试集\n",
    "X_train, X_test, y_label_train, y_label_test, y_sensitive_train, y_sensitive_test = train_test_split(\n",
    "    X_scaled, y_label, y_sensitive, test_size=0.2, random_state=42)"
   ]
  }
 ],
 "metadata": {
  "language_info": {
   "name": "python"
  },
  "orig_nbformat": 4
 },
 "nbformat": 4,
 "nbformat_minor": 2
}
